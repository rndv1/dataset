{
 "cells": [
  {
   "cell_type": "code",
   "execution_count": null,
   "id": "88d6e2c0-cb6d-47a8-b216-d7a534133cc2",
   "metadata": {},
   "outputs": [],
   "source": [
    "import pandas as pd\n",
    "import numpy as np\n",
    "import matplotlib.pyplot as plt\n",
    "import seaborn as sns\n",
    "\n",
    "from sklearn.model_selection import train_test_split, cross_val_score\n",
    "from sklearn.metrics import r2_score\n",
    "from sklearn.ensemble import RandomForestRegressor, GradientBoostingRegressor\n",
    "from sklearn.tree import DecisionTreeRegressor\n",
    "from sklearn.linear_model import LinearRegression\n",
    "from sklearn.neural_network import MLPRegressor\n",
    "\n",
    "sns.set(style=\"whitegrid\")\n",
    "\n",
    "# Загрузка датасета\n",
    "df = pd.read_csv(\"dataset.csv\")\n",
    "df.head()\n"
   ]
  },
  {
   "cell_type": "code",
   "execution_count": null,
   "id": "a9192c0f-f528-41c3-b6c3-de5d0dcb83f5",
   "metadata": {},
   "outputs": [],
   "source": [
    "df.info()\n",
    "df.isnull().sum()"
   ]
  },
  {
   "cell_type": "code",
   "execution_count": null,
   "id": "f1f0f54b-c1b2-418d-99cb-a667727f0adc",
   "metadata": {},
   "outputs": [],
   "source": [
    "plt.figure(figsize=(10, 5))\n",
    "sns.histplot(df[\"popularity\"], bins=50, kde=True, color=\"skyblue\")\n",
    "plt.title(\"Распределение популярности треков\")\n",
    "plt.xlabel(\"Популярность (popularity)\")\n",
    "plt.ylabel(\"Количество треков\")\n",
    "plt.show()\n"
   ]
  },
  {
   "cell_type": "code",
   "execution_count": null,
   "id": "4c108c56-0ae4-4206-a3e0-97a071b93fa3",
   "metadata": {},
   "outputs": [],
   "source": [
    "num_cols = df.select_dtypes(include=[\"int64\", \"float64\", \"bool\"]).columns\n",
    "correlations = df[num_cols].corr()[\"popularity\"].sort_values(ascending=False)\n",
    "\n",
    "plt.figure(figsize=(8, 10))\n",
    "sns.barplot(\n",
    "    x=correlations.values,\n",
    "    y=correlations.index,\n",
    "    hue=correlations.index,\n",
    "    palette=\"viridis\",\n",
    "    legend=False\n",
    ")\n",
    "plt.title(\"Корреляция признаков с popularity\")\n",
    "plt.xlabel(\"Коэффициент корреляции\")\n",
    "plt.ylabel(\"Признаки\")\n",
    "plt.show()\n",
    "\n"
   ]
  },
  {
   "cell_type": "code",
   "execution_count": null,
   "id": "35c96a1a-2efe-4fcf-a808-c4b11fb2dc54",
   "metadata": {},
   "outputs": [],
   "source": [
    "df[\"duration_min\"] = df[\"duration_ms\"] / 60000\n",
    "df[\"energy_dance\"] = df[\"energy\"] * df[\"danceability\"]\n",
    "df[\"speech_instrument\"] = df[\"speechiness\"] * df[\"instrumentalness\"]\n",
    "\n",
    "# Проверим корреляции новых фичей\n",
    "df[[\"duration_min\", \"energy_dance\", \"speech_instrument\", \"popularity\"]].corr()[\"popularity\"]\n"
   ]
  },
  {
   "cell_type": "code",
   "execution_count": null,
   "id": "b0414d50-bc77-4dd3-bdb2-69363d5a853e",
   "metadata": {},
   "outputs": [],
   "source": [
    "features = df.select_dtypes(include=[\"int64\", \"float64\", \"bool\"]).drop(columns=[\"popularity\"]).columns\n",
    "X = df[features]\n",
    "y = df[\"popularity\"]\n",
    "\n",
    "X_train, X_test, y_train, y_test = train_test_split(X, y, test_size=0.2, random_state=42)\n",
    "\n",
    "rf_model = RandomForestRegressor(n_estimators=100, random_state=42)\n",
    "rf_model.fit(X_train, y_train)\n",
    "\n",
    "importances = pd.Series(rf_model.feature_importances_, index=X.columns).sort_values(ascending=False)\n",
    "importances.head(10).plot(kind=\"barh\", figsize=(10, 6), title=\"Топ-10 признаков по важности\")\n",
    "plt.show()\n"
   ]
  },
  {
   "cell_type": "code",
   "execution_count": null,
   "id": "8dfe890b-76b2-4c05-a7e8-f53b1681a837",
   "metadata": {},
   "outputs": [],
   "source": [
    "models = {\n",
    "    \"Linear Regression\": LinearRegression(),\n",
    "    \"Decision Tree\": DecisionTreeRegressor(random_state=42),\n",
    "    \"Gradient Boosting\": GradientBoostingRegressor(random_state=42),\n",
    "    \"Neural Network\": MLPRegressor(hidden_layer_sizes=(64, 32), max_iter=300, random_state=42)\n",
    "}\n",
    "\n",
    "for name, model in models.items():\n",
    "    scores = cross_val_score(model, X, y, cv=5, scoring=\"r2\")\n",
    "    print(f\"{name}: R² (mean) = {scores.mean():.4f} | std = {scores.std():.4f}\")\n"
   ]
  }
 ],
 "metadata": {
  "kernelspec": {
   "display_name": "Python 3 (ipykernel)",
   "language": "python",
   "name": "python3"
  },
  "language_info": {
   "codemirror_mode": {
    "name": "ipython",
    "version": 3
   },
   "file_extension": ".py",
   "mimetype": "text/x-python",
   "name": "python",
   "nbconvert_exporter": "python",
   "pygments_lexer": "ipython3",
   "version": "3.12.7"
  }
 },
 "nbformat": 4,
 "nbformat_minor": 5
}
